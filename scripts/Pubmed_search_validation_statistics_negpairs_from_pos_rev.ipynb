{
 "cells": [
  {
   "cell_type": "markdown",
   "metadata": {},
   "source": [
    "### Pubmed search validation statistics\n",
    "Robert Ietswaart, 20190825 - MIT license"
   ]
  },
  {
   "cell_type": "code",
   "execution_count": 101,
   "metadata": {},
   "outputs": [],
   "source": [
    "import re\n",
    "import copy\n",
    "import numpy as np\n",
    "import pickle as pkl\n",
    "import pandas as pd\n",
    "import matplotlib.pyplot as plt\n",
    "plt.rcParams['pdf.fonttype'] = 42\n",
    "plt.rcParams['ps.fonttype'] = 42\n",
    "import seaborn as sns\n",
    "from scipy.stats import fisher_exact, chi2_contingency,  mannwhitneyu, ks_2samp\n",
    "\n",
    "from statsmodels.stats.multitest import fdrcorrection"
   ]
  },
  {
   "cell_type": "code",
   "execution_count": 102,
   "metadata": {},
   "outputs": [
    {
     "data": {
      "text/html": [
       "<div>\n",
       "<style scoped>\n",
       "    .dataframe tbody tr th:only-of-type {\n",
       "        vertical-align: middle;\n",
       "    }\n",
       "\n",
       "    .dataframe tbody tr th {\n",
       "        vertical-align: top;\n",
       "    }\n",
       "\n",
       "    .dataframe thead th {\n",
       "        text-align: right;\n",
       "    }\n",
       "</style>\n",
       "<table border=\"1\" class=\"dataframe\">\n",
       "  <thead>\n",
       "    <tr style=\"text-align: right;\">\n",
       "      <th></th>\n",
       "      <th>HLGT</th>\n",
       "      <th>gene</th>\n",
       "      <th>mesh_tr</th>\n",
       "      <th>HLGT_N</th>\n",
       "      <th>mesh_N</th>\n",
       "      <th>intersect_N</th>\n",
       "      <th>flag</th>\n",
       "    </tr>\n",
       "  </thead>\n",
       "  <tbody>\n",
       "    <tr>\n",
       "      <th>0</th>\n",
       "      <td>coagulopathies and bleeding diatheses (excl th...</td>\n",
       "      <td>AR</td>\n",
       "      <td>Receptors, Androgen</td>\n",
       "      <td>94336</td>\n",
       "      <td>14984</td>\n",
       "      <td>14</td>\n",
       "      <td>True</td>\n",
       "    </tr>\n",
       "    <tr>\n",
       "      <th>1</th>\n",
       "      <td>coagulopathies and bleeding diatheses (excl th...</td>\n",
       "      <td>NR3C1</td>\n",
       "      <td>Receptors, Glucocorticoid</td>\n",
       "      <td>94336</td>\n",
       "      <td>12736</td>\n",
       "      <td>8</td>\n",
       "      <td>True</td>\n",
       "    </tr>\n",
       "    <tr>\n",
       "      <th>2</th>\n",
       "      <td>coagulopathies and bleeding diatheses (excl th...</td>\n",
       "      <td>HTR3A</td>\n",
       "      <td>Receptors, Serotonin, 5-HT3</td>\n",
       "      <td>94336</td>\n",
       "      <td>1657</td>\n",
       "      <td>0</td>\n",
       "      <td>False</td>\n",
       "    </tr>\n",
       "    <tr>\n",
       "      <th>3</th>\n",
       "      <td>coagulopathies and bleeding diatheses (excl th...</td>\n",
       "      <td>PDE3A</td>\n",
       "      <td>Cyclic Nucleotide Phosphodiesterases, Type 3</td>\n",
       "      <td>94336</td>\n",
       "      <td>855</td>\n",
       "      <td>0</td>\n",
       "      <td>False</td>\n",
       "    </tr>\n",
       "    <tr>\n",
       "      <th>4</th>\n",
       "      <td>coagulopathies and bleeding diatheses (excl th...</td>\n",
       "      <td>PTGS2</td>\n",
       "      <td>Cyclooxygenase 2</td>\n",
       "      <td>94336</td>\n",
       "      <td>22509</td>\n",
       "      <td>9</td>\n",
       "      <td>False</td>\n",
       "    </tr>\n",
       "  </tbody>\n",
       "</table>\n",
       "</div>"
      ],
      "text/plain": [
       "                                                HLGT   gene  \\\n",
       "0  coagulopathies and bleeding diatheses (excl th...     AR   \n",
       "1  coagulopathies and bleeding diatheses (excl th...  NR3C1   \n",
       "2  coagulopathies and bleeding diatheses (excl th...  HTR3A   \n",
       "3  coagulopathies and bleeding diatheses (excl th...  PDE3A   \n",
       "4  coagulopathies and bleeding diatheses (excl th...  PTGS2   \n",
       "\n",
       "                                        mesh_tr  HLGT_N  mesh_N  intersect_N  \\\n",
       "0                           Receptors, Androgen   94336   14984           14   \n",
       "1                     Receptors, Glucocorticoid   94336   12736            8   \n",
       "2                   Receptors, Serotonin, 5-HT3   94336    1657            0   \n",
       "3  Cyclic Nucleotide Phosphodiesterases, Type 3   94336     855            0   \n",
       "4                              Cyclooxygenase 2   94336   22509            9   \n",
       "\n",
       "    flag  \n",
       "0   True  \n",
       "1   True  \n",
       "2  False  \n",
       "3  False  \n",
       "4  False  "
      ]
     },
     "execution_count": 102,
     "metadata": {},
     "output_type": "execute_result"
    }
   ],
   "source": [
    "path='/Users/horizon/Documents/HMS/Novartis2018Hackathon/PCS/Saman/'\n",
    "filename='Full_result_ADRmesh_Genemesh_pubmed_NEW.csv'\n",
    "ATpmid = pd.read_csv(path+filename,sep='\\t')#\n",
    "ATpmid.head()"
   ]
  },
  {
   "cell_type": "code",
   "execution_count": 103,
   "metadata": {
    "scrolled": true
   },
   "outputs": [
    {
     "data": {
      "text/plain": [
       "5149"
      ]
     },
     "execution_count": 103,
     "metadata": {},
     "output_type": "execute_result"
    }
   ],
   "source": [
    "mapper={'HLGT_N':'N_A','mesh_N':'N_T','intersect_N':'N_AT','flag':'RF_pred'}\n",
    "ATpmid=ATpmid.rename(columns=mapper)\n",
    "len(ATpmid)"
   ]
  },
  {
   "cell_type": "code",
   "execution_count": 154,
   "metadata": {},
   "outputs": [],
   "source": [
    "#TEMP: delete menopause HLGT as it has no meddra terms associated: Saman should send updated file with these not in file anymore\n",
    "ATpmid=ATpmid[~ATpmid['HLGT'].isin(['menopause and related conditions'])]\n"
   ]
  },
  {
   "cell_type": "code",
   "execution_count": 158,
   "metadata": {},
   "outputs": [
    {
     "name": "stdout",
     "output_type": "stream",
     "text": [
      "2748 / 4890 0.561963190184049 of negatives have literature co-occurrence\n"
     ]
    }
   ],
   "source": [
    "dtemp=ATpmid[ATpmid['RF_pred']==False]\n",
    "dtemp=dtemp.drop_duplicates(['HLGT','gene'])\n",
    "print(len(dtemp[dtemp['N_AT']>0]),'/',len(dtemp),\n",
    "      len(dtemp[dtemp['N_AT']>0])/len(dtemp) ,'of negatives have literature co-occurrence')"
   ]
  },
  {
   "cell_type": "code",
   "execution_count": 159,
   "metadata": {},
   "outputs": [
    {
     "name": "stdout",
     "output_type": "stream",
     "text": [
      "145 / 219 0.6621004566210046 of predictions have literature co-occurrence\n"
     ]
    }
   ],
   "source": [
    "dtemp=ATpmid[ATpmid['RF_pred']==True]\n",
    "dtemp=dtemp.drop_duplicates(['HLGT','gene'])\n",
    "print(len(dtemp[dtemp['N_AT']>0]),'/',len(dtemp),\n",
    "      len(dtemp[dtemp['N_AT']>0])/len(dtemp) ,'of predictions have literature co-occurrence')"
   ]
  },
  {
   "cell_type": "code",
   "execution_count": 160,
   "metadata": {},
   "outputs": [],
   "source": [
    "N_all_pmids=29138919\n",
    "#information retrieved from:\n",
    "#https://www.nlm.nih.gov/bsd/licensee/baselinestats.html\n",
    "#https://www.nlm.nih.gov/bsd/licensee/2019_stats/2019_LO.html\n"
   ]
  },
  {
   "cell_type": "code",
   "execution_count": 161,
   "metadata": {},
   "outputs": [],
   "source": [
    "eps=1e-100\n",
    "ATpmid['lift']=N_all_pmids*ATpmid['N_AT']/(ATpmid['N_A']*ATpmid['N_T']+eps)"
   ]
  },
  {
   "cell_type": "code",
   "execution_count": 162,
   "metadata": {},
   "outputs": [
    {
     "name": "stdout",
     "output_type": "stream",
     "text": [
      "0.12678936605316973 of negatives have positive lift\n",
      "0.22727272727272727 of predictions have positive lift\n"
     ]
    }
   ],
   "source": [
    "dtemp=ATpmid[ATpmid['lift']>1]\n",
    "print(len(dtemp[dtemp['RF_pred']==False])/len(ATpmid[ATpmid['RF_pred']==False]),\n",
    "      'of negatives have positive lift')\n",
    "print(len(dtemp[dtemp['RF_pred']==True])/len(ATpmid[ATpmid['RF_pred']==True]),\n",
    "      'of predictions have positive lift')\n",
    "###NB results for lift and FE odds ratio is exactly the same"
   ]
  },
  {
   "cell_type": "code",
   "execution_count": 163,
   "metadata": {},
   "outputs": [
    {
     "name": "stdout",
     "output_type": "stream",
     "text": [
      "0.1596146102210732\n",
      "0.06256674444049146\n",
      "1.2741817056733502\n",
      "0.6606205103810764\n"
     ]
    }
   ],
   "source": [
    "print(np.median(ATpmid[ATpmid['RF_pred']==True]['lift']))\n",
    "print(np.median(ATpmid[ATpmid['RF_pred']==False]['lift']))\n",
    "print(np.mean(ATpmid[ATpmid['RF_pred']==True]['lift']))\n",
    "print(np.mean(ATpmid[ATpmid['RF_pred']==False]['lift']))\n",
    "# print(max(ATpmid[ATpmid['RF_pred']==True]['lift']))\n",
    "# print(max(ATpmid[ATpmid['RF_pred']==False]['lift']))"
   ]
  },
  {
   "cell_type": "code",
   "execution_count": 164,
   "metadata": {},
   "outputs": [
    {
     "name": "stdout",
     "output_type": "stream",
     "text": [
      "fold 2.551109405618603\n"
     ]
    }
   ],
   "source": [
    "print('fold',np.median(ATpmid[ATpmid['RF_pred']==True]['lift'])/np.median(ATpmid[ATpmid['RF_pred']==False]['lift']))"
   ]
  },
  {
   "cell_type": "code",
   "execution_count": 112,
   "metadata": {},
   "outputs": [],
   "source": [
    "#mannwhitneyu test = Mann Whitney U test = Wilcoxon rank sum test (not paired)\n",
    "#https://docs.scipy.org/doc/scipy/reference/generated/scipy.stats.mannwhitneyu.html#scipy.stats.mannwhitneyu\n",
    "#with corrects for ties (=equal rankings) and continuity correction since our data is discrete"
   ]
  },
  {
   "cell_type": "code",
   "execution_count": 167,
   "metadata": {},
   "outputs": [
    {
     "data": {
      "text/plain": [
       "(611395.0, 0.00033989280683877624)"
      ]
     },
     "execution_count": 167,
     "metadata": {},
     "output_type": "execute_result"
    }
   ],
   "source": [
    "U , pval = mannwhitneyu(ATpmid[ATpmid['RF_pred']==True]['lift'],\n",
    "                        ATpmid[ATpmid['RF_pred']==False]['lift'],\n",
    "                        use_continuity=True,\n",
    "                        alternative='two-sided')\n",
    "\n",
    "U, pval"
   ]
  },
  {
   "cell_type": "code",
   "execution_count": 168,
   "metadata": {},
   "outputs": [],
   "source": [
    "def get_contingency_table(universe,Total_condition1,Total_condition2,Overlap_cond12):\n",
    "    ct = [[1, 2], [3, 4]]#contingency table\n",
    "    ct[0][0] = Overlap_cond12\n",
    "    ct[0][1] = Total_condition2-Overlap_cond12\n",
    "    ct[1][0] = Total_condition1-Overlap_cond12\n",
    "    ct[1][1] = universe-Total_condition1-Total_condition2+Overlap_cond12\n",
    "    return ct\n",
    "\n",
    "\n",
    "# def FE_test_from_totals(universe,Total_condition1,Total_condition2,Overlap_cond12):\n",
    "#     cont_table = [[1, 2], [3, 4]]#contingency table\n",
    "#     cont_table[0][0] = Overlap_cond12\n",
    "#     cont_table[0][1] = Total_condition2-Overlap_cond12\n",
    "#     cont_table[1][0] = Total_condition1-Overlap_cond12\n",
    "#     cont_table[1][1] = universe-Total_condition1-Total_condition2+Overlap_cond12\n",
    "#     fisher_exact(cont_table)\n",
    "#     return oddsratio, pvalue"
   ]
  },
  {
   "cell_type": "markdown",
   "metadata": {},
   "source": [
    "## FE / chi2 test to see if Pubmed retrieval rate is higher than over background"
   ]
  },
  {
   "cell_type": "code",
   "execution_count": 169,
   "metadata": {},
   "outputs": [
    {
     "name": "stdout",
     "output_type": "stream",
     "text": [
      "5110 220 2893 145\n",
      "Fisher Exact odds ratio 1.5069868995633189 pvalue 0.004337562085414955\n",
      "Chi2 statistic 7.695235016242595 pvalue 0.005536679998657007 degrees of freedom 1\n",
      "contingency table \n",
      " [[145, 2748], [75, 2142]]\n",
      "expected contingency table under independence null hypothesis \n",
      " [[ 124.5518591 2768.4481409]\n",
      " [  95.4481409 2121.5518591]]\n"
     ]
    }
   ],
   "source": [
    "N_all_ATs = len(ATpmid)\n",
    "dtemp=ATpmid[ATpmid['RF_pred']==True]\n",
    "N_RF_pred = len(dtemp)\n",
    "dtemp = ATpmid[ATpmid['N_AT']>0]\n",
    "N_pmpos = len(dtemp)\n",
    "N_RF_pred_pmpos=len(dtemp[dtemp['RF_pred']==True])\n",
    "\n",
    "print(N_all_ATs,\n",
    "      N_RF_pred,\n",
    "      N_pmpos,\n",
    "      N_RF_pred_pmpos)\n",
    "cont_table = get_contingency_table(N_all_ATs,\n",
    "                                   N_RF_pred,\n",
    "                                   N_pmpos,\n",
    "                                   N_RF_pred_pmpos)    \n",
    "\n",
    "OR , pval = fisher_exact(cont_table)\n",
    "print('Fisher Exact odds ratio',OR,'pvalue',pval)\n",
    "c2, pval, dof, ex = chi2_contingency(cont_table, correction=True)\n",
    "print('Chi2 statistic',c2,'pvalue',pval,'degrees of freedom',dof)\n",
    "print('contingency table \\n', cont_table)\n",
    "print('expected contingency table under independence null hypothesis \\n', ex)\n"
   ]
  },
  {
   "cell_type": "markdown",
   "metadata": {},
   "source": [
    "### Idem with dropping duplicates"
   ]
  },
  {
   "cell_type": "code",
   "execution_count": 170,
   "metadata": {},
   "outputs": [
    {
     "name": "stdout",
     "output_type": "stream",
     "text": [
      "5109 219 2893 145\n",
      "Fisher Exact odds ratio 1.5273515873952555 pvalue 0.003386803438991879\n",
      "Chi2 statistic 8.154948222126267 pvalue 0.004294382610624115 degrees of freedom 1\n",
      "contingency table \n",
      " [[145, 2748], [74, 2142]]\n",
      "expected contingency table under independence null hypothesis \n",
      " [[ 124.00998238 2768.99001762]\n",
      " [  94.99001762 2121.00998238]]\n"
     ]
    }
   ],
   "source": [
    "N_all_ATs = len(ATpmid.drop_duplicates(['HLGT','gene']))\n",
    "dtemp=ATpmid[ATpmid['RF_pred']==True]\n",
    "dtemp=dtemp.drop_duplicates(['HLGT','gene'])#some assays (eg hERG binding, hERG QP) are mapped to same gene:\n",
    "#this will duplicate the pubmed retrieval query\n",
    "N_RF_pred = len(dtemp)\n",
    "dtemp = ATpmid[ATpmid['N_AT']>0]\n",
    "dtemp=dtemp.drop_duplicates(['HLGT','gene'])#some assays (eg hERG binding, hERG QP) are mapped to same gene:\n",
    "\n",
    "#this will duplicate the pubmed retrieval query\n",
    "N_pmpos = len(dtemp)\n",
    "N_RF_pred_pmpos=len(dtemp[dtemp['RF_pred']==True])\n",
    "                    \n",
    "print(N_all_ATs,\n",
    "      N_RF_pred,\n",
    "      N_pmpos,\n",
    "      N_RF_pred_pmpos)\n",
    "cont_table = get_contingency_table(N_all_ATs,\n",
    "                                   N_RF_pred,\n",
    "                                   N_pmpos,\n",
    "                                   N_RF_pred_pmpos)    \n",
    "\n",
    "OR , pval = fisher_exact(cont_table)\n",
    "print('Fisher Exact odds ratio',OR,'pvalue',pval)\n",
    "c2, pval, dof, ex = chi2_contingency(cont_table, correction=True)\n",
    "print('Chi2 statistic',c2,'pvalue',pval,'degrees of freedom',dof)\n",
    "print('contingency table \\n', cont_table)\n",
    "print('expected contingency table under independence null hypothesis \\n', ex)"
   ]
  },
  {
   "cell_type": "code",
   "execution_count": null,
   "metadata": {},
   "outputs": [],
   "source": []
  }
 ],
 "metadata": {
  "kernelspec": {
   "display_name": "Python 3",
   "language": "python",
   "name": "python3"
  },
  "language_info": {
   "codemirror_mode": {
    "name": "ipython",
    "version": 3
   },
   "file_extension": ".py",
   "mimetype": "text/x-python",
   "name": "python",
   "nbconvert_exporter": "python",
   "pygments_lexer": "ipython3",
   "version": "3.7.1"
  }
 },
 "nbformat": 4,
 "nbformat_minor": 2
}
