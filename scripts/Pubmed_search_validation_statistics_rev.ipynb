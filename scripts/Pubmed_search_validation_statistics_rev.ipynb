{
 "cells": [
  {
   "cell_type": "markdown",
   "metadata": {},
   "source": [
    "## Pubmed search validation statistics\n",
    "GNU General Public License v3.0 - Robert Ietswaart\n",
    "\n",
    "### Citation:\n",
    "Robert Ietswaart<sup>\\*,#</sup>, Seda Arat<sup>\\*,#</sup>, Amanda X. Chen<sup>\\*</sup>, \n",
    "Saman Farahmand<sup>\\*</sup>, Bumjun Kim, William DuMouchel, \n",
    "Duncan Armstrong, Alexander Fekete, Jeffrey J. Sutherland<sup>#</sup>, Laszlo Urban<sup>#</sup>  \n",
    "*Machine learning guided association of adverse drug reactions with in vitro target-based \n",
    "pharmacology* (2019), [BioRxiv; 750950](https://www.biorxiv.org/content/10.1101/750950v2)."
   ]
  },
  {
   "cell_type": "code",
   "execution_count": 1,
   "metadata": {},
   "outputs": [],
   "source": [
    "import re\n",
    "import copy\n",
    "import numpy as np\n",
    "import pickle as pkl\n",
    "import pandas as pd\n",
    "import matplotlib.pyplot as plt\n",
    "plt.rcParams['pdf.fonttype'] = 42\n",
    "plt.rcParams['ps.fonttype'] = 42\n",
    "import seaborn as sns\n",
    "from scipy.stats import fisher_exact, chi2_contingency,  mannwhitneyu, ks_2samp\n",
    "from statsmodels.stats.multitest import fdrcorrection"
   ]
  },
  {
   "cell_type": "code",
   "execution_count": 2,
   "metadata": {},
   "outputs": [
    {
     "data": {
      "text/html": [
       "<div>\n",
       "<style scoped>\n",
       "    .dataframe tbody tr th:only-of-type {\n",
       "        vertical-align: middle;\n",
       "    }\n",
       "\n",
       "    .dataframe tbody tr th {\n",
       "        vertical-align: top;\n",
       "    }\n",
       "\n",
       "    .dataframe thead th {\n",
       "        text-align: right;\n",
       "    }\n",
       "</style>\n",
       "<table border=\"1\" class=\"dataframe\">\n",
       "  <thead>\n",
       "    <tr style=\"text-align: right;\">\n",
       "      <th></th>\n",
       "      <th>HLGT</th>\n",
       "      <th>gene</th>\n",
       "      <th>mesh_tr</th>\n",
       "      <th>HLGT_N</th>\n",
       "      <th>mesh_N</th>\n",
       "      <th>intersect_N</th>\n",
       "      <th>flag</th>\n",
       "    </tr>\n",
       "  </thead>\n",
       "  <tbody>\n",
       "    <tr>\n",
       "      <th>0</th>\n",
       "      <td>abdominal hernias and other abdominal wall con...</td>\n",
       "      <td>ABCB11</td>\n",
       "      <td>ATP Binding Cassette Transporter, Subfamily B,...</td>\n",
       "      <td>32021</td>\n",
       "      <td>554</td>\n",
       "      <td>0</td>\n",
       "      <td>False</td>\n",
       "    </tr>\n",
       "    <tr>\n",
       "      <th>1</th>\n",
       "      <td>abdominal hernias and other abdominal wall con...</td>\n",
       "      <td>ACHE</td>\n",
       "      <td>Acetylcholinesterase</td>\n",
       "      <td>32021</td>\n",
       "      <td>21600</td>\n",
       "      <td>1</td>\n",
       "      <td>False</td>\n",
       "    </tr>\n",
       "    <tr>\n",
       "      <th>2</th>\n",
       "      <td>abdominal hernias and other abdominal wall con...</td>\n",
       "      <td>ADORA1</td>\n",
       "      <td>Receptor, Adenosine A1</td>\n",
       "      <td>32021</td>\n",
       "      <td>1347</td>\n",
       "      <td>0</td>\n",
       "      <td>False</td>\n",
       "    </tr>\n",
       "    <tr>\n",
       "      <th>3</th>\n",
       "      <td>abdominal hernias and other abdominal wall con...</td>\n",
       "      <td>ADORA2A</td>\n",
       "      <td>Receptor, Adenosine A2A</td>\n",
       "      <td>32021</td>\n",
       "      <td>2325</td>\n",
       "      <td>0</td>\n",
       "      <td>False</td>\n",
       "    </tr>\n",
       "    <tr>\n",
       "      <th>4</th>\n",
       "      <td>abdominal hernias and other abdominal wall con...</td>\n",
       "      <td>ADORA3</td>\n",
       "      <td>Receptor, Adenosine A3</td>\n",
       "      <td>32021</td>\n",
       "      <td>746</td>\n",
       "      <td>0</td>\n",
       "      <td>False</td>\n",
       "    </tr>\n",
       "  </tbody>\n",
       "</table>\n",
       "</div>"
      ],
      "text/plain": [
       "                                                HLGT     gene  \\\n",
       "0  abdominal hernias and other abdominal wall con...   ABCB11   \n",
       "1  abdominal hernias and other abdominal wall con...     ACHE   \n",
       "2  abdominal hernias and other abdominal wall con...   ADORA1   \n",
       "3  abdominal hernias and other abdominal wall con...  ADORA2A   \n",
       "4  abdominal hernias and other abdominal wall con...   ADORA3   \n",
       "\n",
       "                                             mesh_tr  HLGT_N  mesh_N  \\\n",
       "0  ATP Binding Cassette Transporter, Subfamily B,...   32021     554   \n",
       "1                               Acetylcholinesterase   32021   21600   \n",
       "2                             Receptor, Adenosine A1   32021    1347   \n",
       "3                            Receptor, Adenosine A2A   32021    2325   \n",
       "4                             Receptor, Adenosine A3   32021     746   \n",
       "\n",
       "   intersect_N   flag  \n",
       "0            0  False  \n",
       "1            1  False  \n",
       "2            0  False  \n",
       "3            0  False  \n",
       "4            0  False  "
      ]
     },
     "execution_count": 2,
     "metadata": {},
     "output_type": "execute_result"
    }
   ],
   "source": [
    "path='/Users/horizon/Documents/HMS/Novartis2018Hackathon/PCS/Saman/'\n",
    "filename='Full_result_ADRmesh_Genemesh_pubmed_NEW_106.csv'\n",
    "\n",
    "ATpmid = pd.read_csv(path+filename,sep='\\t')#\n",
    "ATpmid.head()"
   ]
  },
  {
   "cell_type": "code",
   "execution_count": 3,
   "metadata": {
    "scrolled": true
   },
   "outputs": [
    {
     "data": {
      "text/plain": [
       "26925"
      ]
     },
     "execution_count": 3,
     "metadata": {},
     "output_type": "execute_result"
    }
   ],
   "source": [
    "mapper={'HLGT_N':'N_A','mesh_N':'N_T','intersect_N':'N_AT','flag':'RF_pred'}\n",
    "ATpmid=ATpmid.rename(columns=mapper)\n",
    "len(ATpmid)"
   ]
  },
  {
   "cell_type": "code",
   "execution_count": 4,
   "metadata": {},
   "outputs": [
    {
     "name": "stdout",
     "output_type": "stream",
     "text": [
      "14044 / 26705 0.5258940273357049 of negatives have literature co-occurrence\n"
     ]
    }
   ],
   "source": [
    "dtemp=ATpmid[ATpmid['RF_pred']==False]\n",
    "dtemp=dtemp.drop_duplicates(['HLGT','gene'])\n",
    "print(len(dtemp[dtemp['N_AT']>0]),'/',len(dtemp),\n",
    "      len(dtemp[dtemp['N_AT']>0])/len(dtemp) ,'of negatives have literature co-occurrence')"
   ]
  },
  {
   "cell_type": "code",
   "execution_count": 5,
   "metadata": {},
   "outputs": [
    {
     "name": "stdout",
     "output_type": "stream",
     "text": [
      "145 / 219 0.6621004566210046 of predictions have literature co-occurrence\n"
     ]
    }
   ],
   "source": [
    "dtemp=ATpmid[ATpmid['RF_pred']==True]\n",
    "dtemp=dtemp.drop_duplicates(['HLGT','gene'])\n",
    "print(len(dtemp[dtemp['N_AT']>0]),'/',len(dtemp),\n",
    "      len(dtemp[dtemp['N_AT']>0])/len(dtemp) ,'of predictions have literature co-occurrence')"
   ]
  },
  {
   "cell_type": "markdown",
   "metadata": {},
   "source": [
    "## Calculate lift"
   ]
  },
  {
   "cell_type": "code",
   "execution_count": 6,
   "metadata": {},
   "outputs": [],
   "source": [
    "N_all_pmids=29138919\n",
    "#information retrieved from:\n",
    "#https://www.nlm.nih.gov/bsd/licensee/baselinestats.html\n",
    "#https://www.nlm.nih.gov/bsd/licensee/2019_stats/2019_LO.html\n"
   ]
  },
  {
   "cell_type": "code",
   "execution_count": 7,
   "metadata": {},
   "outputs": [],
   "source": [
    "ATpmid['lift']=N_all_pmids*ATpmid['N_AT']/(ATpmid['N_A']*ATpmid['N_T'])"
   ]
  },
  {
   "cell_type": "code",
   "execution_count": 8,
   "metadata": {},
   "outputs": [
    {
     "name": "stdout",
     "output_type": "stream",
     "text": [
      "0.12967609061973412 of negatives have positive lift\n",
      "0.22272727272727272 of predictions have positive lift\n"
     ]
    }
   ],
   "source": [
    "dtemp=ATpmid[ATpmid['lift']>1]\n",
    "print(len(dtemp[dtemp['RF_pred']==False])/len(ATpmid[ATpmid['RF_pred']==False]),\n",
    "      'of negatives have positive lift')\n",
    "print(len(dtemp[dtemp['RF_pred']==True])/len(ATpmid[ATpmid['RF_pred']==True]),\n",
    "      'of predictions have positive lift')\n",
    "###NB results for lift and FE odds ratio is exactly the same"
   ]
  },
  {
   "cell_type": "code",
   "execution_count": 9,
   "metadata": {},
   "outputs": [
    {
     "name": "stdout",
     "output_type": "stream",
     "text": [
      "0.16186094081962868\n",
      "0.043996415841097675\n",
      "1.2636508842450893\n",
      "0.6232813870384358\n"
     ]
    }
   ],
   "source": [
    "print(np.median(ATpmid[ATpmid['RF_pred']==True]['lift']))\n",
    "print(np.median(ATpmid[ATpmid['RF_pred']==False]['lift']))\n",
    "print(np.mean(ATpmid[ATpmid['RF_pred']==True]['lift']))\n",
    "print(np.mean(ATpmid[ATpmid['RF_pred']==False]['lift']))\n",
    "# print(max(ATpmid[ATpmid['RF_pred']==True]['lift']))\n",
    "# print(max(ATpmid[ATpmid['RF_pred']==False]['lift']))"
   ]
  },
  {
   "cell_type": "code",
   "execution_count": 10,
   "metadata": {},
   "outputs": [
    {
     "name": "stdout",
     "output_type": "stream",
     "text": [
      "fold 3.6789574269918615\n"
     ]
    }
   ],
   "source": [
    "print('fold',np.median(ATpmid[ATpmid['RF_pred']==True]['lift'])/np.median(ATpmid[ATpmid['RF_pred']==False]['lift']))"
   ]
  },
  {
   "cell_type": "code",
   "execution_count": 11,
   "metadata": {},
   "outputs": [],
   "source": [
    "#mannwhitneyu test = Mann Whitney U test = Wilcoxon rank sum test (not paired)\n",
    "#https://docs.scipy.org/doc/scipy/reference/generated/scipy.stats.mannwhitneyu.html#scipy.stats.mannwhitneyu\n",
    "#with corrects for ties (=equal rankings) and continuity correction since our data is discrete"
   ]
  },
  {
   "cell_type": "code",
   "execution_count": 12,
   "metadata": {},
   "outputs": [
    {
     "data": {
      "text/plain": [
       "(3403522.5, 1.7716158369081986e-05)"
      ]
     },
     "execution_count": 12,
     "metadata": {},
     "output_type": "execute_result"
    }
   ],
   "source": [
    "U , pval = mannwhitneyu(ATpmid[ATpmid['RF_pred']==True]['lift'],\n",
    "                        ATpmid[ATpmid['RF_pred']==False]['lift'],\n",
    "                        use_continuity=True,\n",
    "                        alternative='two-sided')\n",
    "\n",
    "U, pval"
   ]
  },
  {
   "cell_type": "code",
   "execution_count": 13,
   "metadata": {},
   "outputs": [],
   "source": [
    "def get_contingency_table(universe,Total_condition1,Total_condition2,Overlap_cond12):\n",
    "    ct = [[1, 2], [3, 4]]#contingency table\n",
    "    ct[0][0] = Overlap_cond12\n",
    "    ct[0][1] = Total_condition2-Overlap_cond12\n",
    "    ct[1][0] = Total_condition1-Overlap_cond12\n",
    "    ct[1][1] = universe-Total_condition1-Total_condition2+Overlap_cond12\n",
    "    return ct\n"
   ]
  },
  {
   "cell_type": "markdown",
   "metadata": {},
   "source": [
    "## FE / chi2 test to see if Pubmed retrieval rate is higher than over background"
   ]
  },
  {
   "cell_type": "code",
   "execution_count": 14,
   "metadata": {},
   "outputs": [
    {
     "name": "stdout",
     "output_type": "stream",
     "text": [
      "26925 220 14189 145\n",
      "Fisher Exact odds ratio 1.7429459793031425 pvalue 7.813160795292085e-05\n",
      "Chi2 statistic 15.00035262475823 pvalue 0.00010749108914179624 degrees of freedom 1\n",
      "contingency table \n",
      " [[145, 14044], [75, 12661]]\n",
      "expected contingency table under independence null hypothesis \n",
      " [[  115.93611885 14073.06388115]\n",
      " [  104.06388115 12631.93611885]]\n"
     ]
    }
   ],
   "source": [
    "N_all_ATs = len(ATpmid)\n",
    "dtemp=ATpmid[ATpmid['RF_pred']==True]\n",
    "N_RF_pred = len(dtemp)\n",
    "dtemp = ATpmid[ATpmid['N_AT']>0]\n",
    "N_pmpos = len(dtemp)\n",
    "N_RF_pred_pmpos=len(dtemp[dtemp['RF_pred']==True])\n",
    "\n",
    "print(N_all_ATs,\n",
    "      N_RF_pred,\n",
    "      N_pmpos,\n",
    "      N_RF_pred_pmpos)\n",
    "cont_table = get_contingency_table(N_all_ATs,\n",
    "                                   N_RF_pred,\n",
    "                                   N_pmpos,\n",
    "                                   N_RF_pred_pmpos)    \n",
    "\n",
    "OR , pval = fisher_exact(cont_table)\n",
    "print('Fisher Exact odds ratio',OR,'pvalue',pval)\n",
    "c2, pval, dof, ex = chi2_contingency(cont_table, correction=True)\n",
    "print('Chi2 statistic',c2,'pvalue',pval,'degrees of freedom',dof)\n",
    "print('contingency table \\n', cont_table)\n",
    "print('expected contingency table under independence null hypothesis \\n', ex)\n"
   ]
  },
  {
   "cell_type": "markdown",
   "metadata": {},
   "source": [
    "### Idem with dropping duplicates"
   ]
  },
  {
   "cell_type": "code",
   "execution_count": 15,
   "metadata": {},
   "outputs": [
    {
     "name": "stdout",
     "output_type": "stream",
     "text": [
      "26924 219 14189 145\n",
      "Fisher Exact odds ratio 1.7664993033477796 pvalue 5.6019239437360516e-05\n",
      "Chi2 statistic 15.624874641076845 pvalue 7.723191520112344e-05 degrees of freedom 1\n",
      "contingency table \n",
      " [[145, 14044], [74, 12661]]\n",
      "expected contingency table under independence null hypothesis \n",
      " [[  115.41342297 14073.58657703]\n",
      " [  103.58657703 12631.41342297]]\n"
     ]
    }
   ],
   "source": [
    "N_all_ATs = len(ATpmid.drop_duplicates(['HLGT','gene']))\n",
    "dtemp=ATpmid[ATpmid['RF_pred']==True]\n",
    "dtemp=dtemp.drop_duplicates(['HLGT','gene'])#some assays (eg hERG binding, hERG QP) are mapped to same gene:\n",
    "#this will duplicate the pubmed retrieval query\n",
    "N_RF_pred = len(dtemp)\n",
    "dtemp = ATpmid[ATpmid['N_AT']>0]\n",
    "dtemp=dtemp.drop_duplicates(['HLGT','gene'])#some assays (eg hERG binding, hERG QP) are mapped to same gene:\n",
    "\n",
    "#this will duplicate the pubmed retrieval query\n",
    "N_pmpos = len(dtemp)\n",
    "N_RF_pred_pmpos=len(dtemp[dtemp['RF_pred']==True])\n",
    "                    \n",
    "print(N_all_ATs,\n",
    "      N_RF_pred,\n",
    "      N_pmpos,\n",
    "      N_RF_pred_pmpos)\n",
    "cont_table = get_contingency_table(N_all_ATs,\n",
    "                                   N_RF_pred,\n",
    "                                   N_pmpos,\n",
    "                                   N_RF_pred_pmpos)    \n",
    "\n",
    "OR , pval = fisher_exact(cont_table)\n",
    "print('Fisher Exact odds ratio',OR,'pvalue',pval)\n",
    "c2, pval, dof, ex = chi2_contingency(cont_table, correction=True)\n",
    "print('Chi2 statistic',c2,'pvalue',pval,'degrees of freedom',dof)\n",
    "print('contingency table \\n', cont_table)\n",
    "print('expected contingency table under independence null hypothesis \\n', ex)"
   ]
  },
  {
   "cell_type": "code",
   "execution_count": 16,
   "metadata": {},
   "outputs": [],
   "source": [
    "path = '/Users/horizon/Documents/HMS/Novartis2018Hackathon/PCS/'\n",
    "filename = 'Pubmed_search_validation_statistics_rev.csv'\n",
    "ATpmid.to_csv(path+filename)"
   ]
  },
  {
   "cell_type": "code",
   "execution_count": null,
   "metadata": {},
   "outputs": [],
   "source": []
  }
 ],
 "metadata": {
  "kernelspec": {
   "display_name": "Python 3",
   "language": "python",
   "name": "python3"
  },
  "language_info": {
   "codemirror_mode": {
    "name": "ipython",
    "version": 3
   },
   "file_extension": ".py",
   "mimetype": "text/x-python",
   "name": "python",
   "nbconvert_exporter": "python",
   "pygments_lexer": "ipython3",
   "version": "3.7.1"
  }
 },
 "nbformat": 4,
 "nbformat_minor": 2
}
